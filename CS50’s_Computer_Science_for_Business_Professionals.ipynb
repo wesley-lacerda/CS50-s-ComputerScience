{
  "nbformat": 4,
  "nbformat_minor": 0,
  "metadata": {
    "colab": {
      "provenance": []
    },
    "kernelspec": {
      "name": "python3",
      "display_name": "Python 3"
    },
    "language_info": {
      "name": "python"
    }
  },
  "cells": [
    {
      "cell_type": "markdown",
      "source": [
        "# CS50’s Computer Science for Business Professionals"
      ],
      "metadata": {
        "id": "Z2qnouYNPquJ"
      }
    },
    {
      "cell_type": "markdown",
      "source": [
        "## Computational Thinking"
      ],
      "metadata": {
        "id": "LFBi7HoKRJDU"
      }
    },
    {
      "cell_type": "markdown",
      "source": [
        "### Binary\n",
        "\n",
        "\n",
        "---\n",
        "\n",
        "\n",
        "- We’re used to thinking in decimal; we have 10 fingers after all!\n",
        "- But computers think in binary - all 0’s and 1’s!\n",
        "- If you’re comfortable in decimal, you could argue binary is easier; only 2 numbers, not 10\n",
        "- Binary goes from smallest to biggest, right to left. i.e. 001 is read in the order 1, 0, 0, which translates to 2^0 + 0 + 0 = 1 in decimal\n",
        "- With only three places or columns in our binary number, the biggest number we can have is 111 = 7. How do we get bigger numbers?\n",
        "- More digits, or more memory/hardware, allow us to represent bigger numbers. i.e. 4 spaces could be up to 1111 = 15\n",
        "- With these 0’s and 1’s, and now bigger numbers represented this way, how do we represent other things?"
      ],
      "metadata": {
        "id": "LLa07O2HP3sF"
      }
    },
    {
      "cell_type": "code",
      "source": [
        "#7:15"
      ],
      "metadata": {
        "id": "uQNOsJd1RWcH"
      },
      "execution_count": null,
      "outputs": []
    },
    {
      "cell_type": "code",
      "execution_count": null,
      "metadata": {
        "id": "jG3krxmqPnzs"
      },
      "outputs": [],
      "source": []
    }
  ]
}