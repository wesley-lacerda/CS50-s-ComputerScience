{
  "cells": [
    {
      "cell_type": "markdown",
      "metadata": {
        "id": "Z2qnouYNPquJ"
      },
      "source": [
        "# CS50’s Computer Science for Business Professionals"
      ]
    },
    {
      "cell_type": "markdown",
      "metadata": {
        "id": "LFBi7HoKRJDU"
      },
      "source": [
        "## Computational Thinking"
      ]
    },
    {
      "cell_type": "markdown",
      "metadata": {
        "id": "LLa07O2HP3sF"
      },
      "source": [
        "### Binary\n",
        "\n",
        "\n",
        "---\n",
        "\n",
        "\n",
        "- We’re used to thinking in decimal; we have 10 fingers after all!\n",
        "- But computers think in binary - all 0’s and 1’s!\n",
        "- If you’re comfortable in decimal, you could argue binary is easier; only 2 numbers, not 10\n",
        "- Binary goes from smallest to biggest, right to left. i.e. 001 is read in the order 1, 0, 0, which translates to 2^0 + 0 + 0 = 1 in decimal\n",
        "- With only three places or columns in our binary number, the biggest number we can have is 111 = 7. How do we get bigger numbers?\n",
        "- More digits, or more memory/hardware, allow us to represent bigger numbers. i.e. 4 spaces could be up to 1111 = 15\n",
        "- With these 0’s and 1’s, and now bigger numbers represented this way, how do we represent other things?"
      ]
    },
    {
      "cell_type": "markdown",
      "metadata": {},
      "source": [
        "### ASCII - Other Representations\n",
        "\n",
        "---\n",
        "\n",
        "\n",
        "What if we made it so that 65 = ‘A’, 66 = ‘B’, and so on?\n",
        "For example: 72 73 33 = ‘HI!’, at least in one representation\n",
        "What if we were using these numbers for colors? then 72 73 33 could be a color, in the form of how much of the following three colors we have: Red Green Blue = 72 Red, 73 Green, and 33 Blue, which gives us some weird yellow color overall. (For more practice, take a look at an RGB color palette online, they abound and are quite cool to play with)\n",
        "The biggest number in decimal we could represent with one byte = eight bits of binary numbers, is going to be 255. There are 256 combinations of 0’s and 1’s, and one of those is the decimal number 0, so the highest number representable is 255. Check for yourself! What is 11111111 manually?\n",
        "\n"
      ]
    },
    {
      "cell_type": "code",
      "execution_count": null,
      "metadata": {
        "id": "jG3krxmqPnzs"
      },
      "outputs": [],
      "source": []
    }
  ],
  "metadata": {
    "colab": {
      "provenance": []
    },
    "kernelspec": {
      "display_name": "Python 3",
      "name": "python3"
    },
    "language_info": {
      "name": "python"
    }
  },
  "nbformat": 4,
  "nbformat_minor": 0
}
